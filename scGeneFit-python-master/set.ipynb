{
 "cells": [
  {
   "cell_type": "code",
   "execution_count": 1,
   "metadata": {},
   "outputs": [
    {
     "name": "stdout",
     "output_type": "stream",
     "text": [
      "Processing c:\\users\\katar\\desktop\\zavrsni projekt scgenefit\\scgenefit-python-master\\scgenefit-python-master\n",
      "  Installing build dependencies: started\n",
      "  Installing build dependencies: finished with status 'done'\n",
      "  Getting requirements to build wheel: started\n",
      "  Getting requirements to build wheel: finished with status 'done'\n",
      "  Preparing metadata (pyproject.toml): started\n",
      "  Preparing metadata (pyproject.toml): finished with status 'done'\n",
      "Requirement already satisfied: numpy in c:\\users\\katar\\appdata\\local\\programs\\python\\python310\\lib\\site-packages (from scGeneFit==1.0.0) (1.24.2)\n",
      "Requirement already satisfied: matplotlib in c:\\users\\katar\\appdata\\local\\programs\\python\\python310\\lib\\site-packages (from scGeneFit==1.0.0) (3.7.1)\n",
      "Requirement already satisfied: scipy in c:\\users\\katar\\appdata\\local\\programs\\python\\python310\\lib\\site-packages (from scGeneFit==1.0.0) (1.10.1)\n",
      "Requirement already satisfied: scikit-learn in c:\\users\\katar\\appdata\\local\\programs\\python\\python310\\lib\\site-packages (from scGeneFit==1.0.0) (1.2.2)\n",
      "Requirement already satisfied: contourpy>=1.0.1 in c:\\users\\katar\\appdata\\local\\programs\\python\\python310\\lib\\site-packages (from matplotlib->scGeneFit==1.0.0) (1.0.7)\n",
      "Requirement already satisfied: cycler>=0.10 in c:\\users\\katar\\appdata\\local\\programs\\python\\python310\\lib\\site-packages (from matplotlib->scGeneFit==1.0.0) (0.11.0)\n",
      "Requirement already satisfied: fonttools>=4.22.0 in c:\\users\\katar\\appdata\\local\\programs\\python\\python310\\lib\\site-packages (from matplotlib->scGeneFit==1.0.0) (4.39.3)\n",
      "Requirement already satisfied: kiwisolver>=1.0.1 in c:\\users\\katar\\appdata\\local\\programs\\python\\python310\\lib\\site-packages (from matplotlib->scGeneFit==1.0.0) (1.4.4)\n",
      "Requirement already satisfied: packaging>=20.0 in c:\\users\\katar\\appdata\\roaming\\python\\python310\\site-packages (from matplotlib->scGeneFit==1.0.0) (23.1)\n",
      "Requirement already satisfied: pillow>=6.2.0 in c:\\users\\katar\\appdata\\local\\programs\\python\\python310\\lib\\site-packages (from matplotlib->scGeneFit==1.0.0) (9.5.0)\n",
      "Requirement already satisfied: pyparsing>=2.3.1 in c:\\users\\katar\\appdata\\local\\programs\\python\\python310\\lib\\site-packages (from matplotlib->scGeneFit==1.0.0) (3.0.9)\n",
      "Requirement already satisfied: python-dateutil>=2.7 in c:\\users\\katar\\appdata\\roaming\\python\\python310\\site-packages (from matplotlib->scGeneFit==1.0.0) (2.8.2)\n",
      "Requirement already satisfied: joblib>=1.1.1 in c:\\users\\katar\\appdata\\local\\programs\\python\\python310\\lib\\site-packages (from scikit-learn->scGeneFit==1.0.0) (1.2.0)\n",
      "Requirement already satisfied: threadpoolctl>=2.0.0 in c:\\users\\katar\\appdata\\local\\programs\\python\\python310\\lib\\site-packages (from scikit-learn->scGeneFit==1.0.0) (3.1.0)\n",
      "Requirement already satisfied: six>=1.5 in c:\\users\\katar\\appdata\\roaming\\python\\python310\\site-packages (from python-dateutil>=2.7->matplotlib->scGeneFit==1.0.0) (1.16.0)\n",
      "Building wheels for collected packages: scGeneFit\n",
      "  Building wheel for scGeneFit (pyproject.toml): started\n",
      "  Building wheel for scGeneFit (pyproject.toml): finished with status 'done'\n",
      "  Created wheel for scGeneFit: filename=scGeneFit-1.0.0-py3-none-any.whl size=13236190 sha256=9f1bd8e842440eace14549bcf76ee99b977388aae2a0ee2162b13c65a71bb32e\n",
      "  Stored in directory: c:\\users\\katar\\appdata\\local\\pip\\cache\\wheels\\fb\\64\\da\\df09a1cbc28d4c496912b981b46b1f98d9efdf04f4d2961d3f\n",
      "Successfully built scGeneFit\n",
      "Installing collected packages: scGeneFit\n",
      "  Attempting uninstall: scGeneFit\n",
      "    Found existing installation: scGeneFit 1.0.0\n",
      "    Uninstalling scGeneFit-1.0.0:\n",
      "      Successfully uninstalled scGeneFit-1.0.0\n",
      "Successfully installed scGeneFit-1.0.0\n",
      "Note: you may need to restart the kernel to use updated packages.\n"
     ]
    }
   ],
   "source": [
    "pip install ."
   ]
  },
  {
   "cell_type": "code",
   "execution_count": null,
   "metadata": {},
   "outputs": [],
   "source": []
  }
 ],
 "metadata": {
  "kernelspec": {
   "display_name": "Python 3",
   "language": "python",
   "name": "python3"
  },
  "language_info": {
   "codemirror_mode": {
    "name": "ipython",
    "version": 3
   },
   "file_extension": ".py",
   "mimetype": "text/x-python",
   "name": "python",
   "nbconvert_exporter": "python",
   "pygments_lexer": "ipython3",
   "version": "3.10.0"
  }
 },
 "nbformat": 4,
 "nbformat_minor": 2
}
